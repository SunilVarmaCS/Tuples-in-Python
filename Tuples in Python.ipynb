{
 "cells": [
  {
   "cell_type": "markdown",
   "metadata": {},
   "source": [
    "# Tuples in Python : Immutable Sequences"
   ]
  },
  {
   "cell_type": "markdown",
   "metadata": {},
   "source": [
    "In the realm of Python’s data structures, tuples stand as one of the fundamental entities. They are immutable sequences, offering a collection of elements that, once defined, cannot be changed. This distinct property separates them from lists, which are mutable. In this article, we'll explore the nature of tuples, their functionality, and how they differ from other data structures in Python."
   ]
  },
  {
   "cell_type": "markdown",
   "metadata": {},
   "source": [
    "**What are Tuples ?**"
   ]
  },
  {
   "cell_type": "markdown",
   "metadata": {},
   "source": [
    "A Tuple in Python is an ordered collection of elements enclosed within parentheses \"()\".\n",
    "\n",
    "These elements can be of any data type - Integers, Strings, Lists, Other tuples, etc..\n",
    "\n",
    "The key feature that defines tuples is their immutability. Once a tuple created, its contents cannot be altered. This means you can't add, remove or change elements in a tuple after it's been defined."
   ]
  },
  {
   "cell_type": "code",
   "execution_count": 2,
   "metadata": {},
   "outputs": [
    {
     "name": "stdout",
     "output_type": "stream",
     "text": [
      "1\n",
      "hello\n"
     ]
    }
   ],
   "source": [
    "# Tuple example\n",
    "my_tuple = (1, 2, 3, \"apple\", \"banana\")\n",
    "\n",
    "# Tuples can also be created without parentheses by separating elements with commas :\n",
    "another_tuple = 5, 6, \"hello\"\n",
    "\n",
    "# Accessing elements within a tuple is similar to accessing elements in a list.\n",
    "# Indexing starts at \"0\", and elements can be retrieved by thier position :\n",
    "\n",
    "# output : 1\n",
    "print(my_tuple[0])\n",
    "\n",
    "# output : hello\n",
    "print(another_tuple[2])\n"
   ]
  },
  {
   "cell_type": "markdown",
   "metadata": {},
   "source": [
    "# Immutability of Tuples"
   ]
  },
  {
   "cell_type": "markdown",
   "metadata": {},
   "source": [
    "**Immutability of tuples sets them apart from lists.**\n",
    "\n",
    "**Once a tuple is created, it cannot be modified.**\n",
    "\n",
    "**Attempts to change, add, or remove elements from a tuple will result in an error**"
   ]
  },
  {
   "cell_type": "code",
   "execution_count": 3,
   "metadata": {},
   "outputs": [
    {
     "ename": "TypeError",
     "evalue": "'tuple' object does not support item assignment",
     "output_type": "error",
     "traceback": [
      "\u001b[1;31m---------------------------------------------------------------------------\u001b[0m",
      "\u001b[1;31mTypeError\u001b[0m                                 Traceback (most recent call last)",
      "\u001b[1;32mc:\\Users\\ASUS\\Documents\\Tuples in Python.ipynb Cell 8\u001b[0m line \u001b[0;36m2\n\u001b[0;32m      <a href='vscode-notebook-cell:/c%3A/Users/ASUS/Documents/Tuples%20in%20Python.ipynb#W6sZmlsZQ%3D%3D?line=0'>1</a>\u001b[0m \u001b[39m# This will raise a TypeError\u001b[39;00m\n\u001b[1;32m----> <a href='vscode-notebook-cell:/c%3A/Users/ASUS/Documents/Tuples%20in%20Python.ipynb#W6sZmlsZQ%3D%3D?line=1'>2</a>\u001b[0m my_tuple[\u001b[39m0\u001b[39;49m] \u001b[39m=\u001b[39m \u001b[39m5\u001b[39m\n",
      "\u001b[1;31mTypeError\u001b[0m: 'tuple' object does not support item assignment"
     ]
    }
   ],
   "source": [
    "# This will raise a TypeError\n",
    "my_tuple[0] = 5\n"
   ]
  },
  {
   "cell_type": "markdown",
   "metadata": {},
   "source": [
    "*Tuples are commonly used for collection of constants or fixed data that should remain unchanged throughout the program's execution*"
   ]
  },
  {
   "cell_type": "markdown",
   "metadata": {},
   "source": [
    "# Tuples Operations"
   ]
  },
  {
   "cell_type": "markdown",
   "metadata": {},
   "source": [
    "# 1 : Concatenation"
   ]
  },
  {
   "cell_type": "markdown",
   "metadata": {},
   "source": [
    "Tuples can be combined using the \"+\" operator"
   ]
  },
  {
   "cell_type": "code",
   "execution_count": 4,
   "metadata": {},
   "outputs": [
    {
     "name": "stdout",
     "output_type": "stream",
     "text": [
      "(1, 2, 3, 'apple', 'banana', 5, 6, 'hello')\n"
     ]
    }
   ],
   "source": [
    "combined_tuple = my_tuple + another_tuple\n",
    "\n",
    "# print combined tuple\n",
    "print(combined_tuple)"
   ]
  },
  {
   "cell_type": "markdown",
   "metadata": {},
   "source": [
    "# 2 : Repetition"
   ]
  },
  {
   "cell_type": "markdown",
   "metadata": {},
   "source": [
    "Tuples can be duplicated using the \"*\" operator :"
   ]
  },
  {
   "cell_type": "code",
   "execution_count": 7,
   "metadata": {},
   "outputs": [
    {
     "name": "stdout",
     "output_type": "stream",
     "text": [
      "(1, 2, 3, 'apple', 'banana', 1, 2, 3, 'apple', 'banana', 1, 2, 3, 'apple', 'banana', 1, 2, 3, 'apple', 'banana', 1, 2, 3, 'apple', 'banana')\n"
     ]
    }
   ],
   "source": [
    "repeated_tuple = my_tuple * 5\n",
    "\n",
    "print(repeated_tuple)"
   ]
  },
  {
   "cell_type": "markdown",
   "metadata": {},
   "source": [
    "# Tuple Methods"
   ]
  },
  {
   "cell_type": "markdown",
   "metadata": {},
   "source": [
    "While tuples lack the variety of methods that lists possess due to their immutability, they do have a few useful methods"
   ]
  },
  {
   "cell_type": "markdown",
   "metadata": {},
   "source": [
    "# 1 : Count()"
   ]
  },
  {
   "cell_type": "markdown",
   "metadata": {},
   "source": [
    "The count() method returns the numbers of occurrences of a specified element within tuple :"
   ]
  },
  {
   "cell_type": "code",
   "execution_count": 8,
   "metadata": {},
   "outputs": [
    {
     "name": "stdout",
     "output_type": "stream",
     "text": [
      "1\n"
     ]
    }
   ],
   "source": [
    "count = my_tuple.count(\"apple\")\n",
    "\n",
    "print(count)"
   ]
  },
  {
   "cell_type": "markdown",
   "metadata": {},
   "source": [
    "# 2 : Index()"
   ]
  },
  {
   "cell_type": "markdown",
   "metadata": {},
   "source": [
    "The 'index()' method returns the index of the first occurrence of a specified element within the tuple :"
   ]
  },
  {
   "cell_type": "code",
   "execution_count": 10,
   "metadata": {},
   "outputs": [
    {
     "name": "stdout",
     "output_type": "stream",
     "text": [
      "(1, 2, 3, 'apple', 'banana')\n",
      "2\n"
     ]
    }
   ],
   "source": [
    "index = my_tuple.index(3)\n",
    "\n",
    "print(my_tuple) \n",
    "print(index)\n"
   ]
  }
 ],
 "metadata": {
  "kernelspec": {
   "display_name": "Python 3",
   "language": "python",
   "name": "python3"
  },
  "language_info": {
   "codemirror_mode": {
    "name": "ipython",
    "version": 3
   },
   "file_extension": ".py",
   "mimetype": "text/x-python",
   "name": "python",
   "nbconvert_exporter": "python",
   "pygments_lexer": "ipython3",
   "version": "3.11.6"
  }
 },
 "nbformat": 4,
 "nbformat_minor": 2
}
